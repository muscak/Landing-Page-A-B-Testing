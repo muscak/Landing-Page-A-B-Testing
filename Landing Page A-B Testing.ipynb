{
 "cells": [
  {
   "cell_type": "markdown",
   "metadata": {},
   "source": [
    "# Landing Page A/B Testing\n",
    "\n",
    "## A/B Testing Process\n",
    "\n",
    "1. Understanding business problem & data\n",
    "2.Detect and resolve problems in the data (Missing Value, Outliers, Unexpected Value)\n",
    "3. Look summary stats and plots\n",
    "4. Apply hypothesis testing and check assumptions\n",
    "5. Check Normality & Homogeneity\n",
    "6. Apply tests (Shapiro, Levene Test, T-Test, Welch Test, Mann Whitney U Test)\n",
    "7. Evaluate the results\n",
    "8. Make inferences"
   ]
  },
  {
   "cell_type": "markdown",
   "metadata": {},
   "source": [
    "# 📚 1. Import Libraries"
   ]
  },
  {
   "cell_type": "code",
   "execution_count": 17,
   "metadata": {},
   "outputs": [],
   "source": [
    "import numpy as np # linear algebra\n",
    "import pandas as pd # data processing, CSV file I/O (e.g. pd.read_csv)\n",
    "pd.set_option('display.max_columns', None)\n",
    "pd.options.display.float_format = '{:.4f}'.format\n",
    "import warnings\n",
    "warnings.filterwarnings(\"ignore\")\n",
    "warnings.simplefilter(action='ignore', category=FutureWarning)\n",
    "import matplotlib.pyplot as plt\n",
    "import seaborn as sb\n",
    "# Configure default settings for plots\n",
    "sb.set(style='ticks')\n",
    "\n",
    "# Hypothesis Testing\n",
    "from scipy.stats import shapiro, mannwhitneyu\n",
    "import scipy.stats as stats"
   ]
  },
  {
   "cell_type": "markdown",
   "metadata": {},
   "source": [
    "# 📖 2. Load Data"
   ]
  },
  {
   "cell_type": "code",
   "execution_count": 2,
   "metadata": {},
   "outputs": [
    {
     "name": "stdout",
     "output_type": "stream",
     "text": [
      "The dataset has 36 rows and 2 columns\n"
     ]
    }
   ],
   "source": [
    "raw_data = pd.read_csv('./Data/web_page_data.csv')\n",
    "print(f'The dataset has {raw_data.shape[0]} rows and {raw_data.shape[1]} columns')"
   ]
  },
  {
   "cell_type": "code",
   "execution_count": 3,
   "metadata": {},
   "outputs": [],
   "source": [
    "# Creating a copy of the dataframe in case we need the raw data in the next sections\n",
    "df = raw_data.copy()"
   ]
  },
  {
   "cell_type": "markdown",
   "metadata": {},
   "source": [
    "## 2.1. Data Overview"
   ]
  },
  {
   "cell_type": "code",
   "execution_count": 4,
   "metadata": {},
   "outputs": [
    {
     "data": {
      "text/html": [
       "<div>\n",
       "<style scoped>\n",
       "    .dataframe tbody tr th:only-of-type {\n",
       "        vertical-align: middle;\n",
       "    }\n",
       "\n",
       "    .dataframe tbody tr th {\n",
       "        vertical-align: top;\n",
       "    }\n",
       "\n",
       "    .dataframe thead th {\n",
       "        text-align: right;\n",
       "    }\n",
       "</style>\n",
       "<table border=\"1\" class=\"dataframe\">\n",
       "  <thead>\n",
       "    <tr style=\"text-align: right;\">\n",
       "      <th></th>\n",
       "      <th>Page</th>\n",
       "      <th>Time</th>\n",
       "    </tr>\n",
       "  </thead>\n",
       "  <tbody>\n",
       "    <tr>\n",
       "      <th>0</th>\n",
       "      <td>Page A</td>\n",
       "      <td>0.2100</td>\n",
       "    </tr>\n",
       "    <tr>\n",
       "      <th>1</th>\n",
       "      <td>Page B</td>\n",
       "      <td>2.5300</td>\n",
       "    </tr>\n",
       "    <tr>\n",
       "      <th>2</th>\n",
       "      <td>Page A</td>\n",
       "      <td>0.3500</td>\n",
       "    </tr>\n",
       "    <tr>\n",
       "      <th>3</th>\n",
       "      <td>Page B</td>\n",
       "      <td>0.7100</td>\n",
       "    </tr>\n",
       "    <tr>\n",
       "      <th>4</th>\n",
       "      <td>Page A</td>\n",
       "      <td>0.6700</td>\n",
       "    </tr>\n",
       "  </tbody>\n",
       "</table>\n",
       "</div>"
      ],
      "text/plain": [
       "     Page   Time\n",
       "0  Page A 0.2100\n",
       "1  Page B 2.5300\n",
       "2  Page A 0.3500\n",
       "3  Page B 0.7100\n",
       "4  Page A 0.6700"
      ]
     },
     "execution_count": 4,
     "metadata": {},
     "output_type": "execute_result"
    }
   ],
   "source": [
    "df.head()"
   ]
  },
  {
   "cell_type": "code",
   "execution_count": 5,
   "metadata": {},
   "outputs": [
    {
     "data": {
      "text/html": [
       "<div>\n",
       "<style scoped>\n",
       "    .dataframe tbody tr th:only-of-type {\n",
       "        vertical-align: middle;\n",
       "    }\n",
       "\n",
       "    .dataframe tbody tr th {\n",
       "        vertical-align: top;\n",
       "    }\n",
       "\n",
       "    .dataframe thead th {\n",
       "        text-align: right;\n",
       "    }\n",
       "</style>\n",
       "<table border=\"1\" class=\"dataframe\">\n",
       "  <thead>\n",
       "    <tr style=\"text-align: right;\">\n",
       "      <th></th>\n",
       "      <th>Page</th>\n",
       "      <th>Time</th>\n",
       "    </tr>\n",
       "  </thead>\n",
       "  <tbody>\n",
       "    <tr>\n",
       "      <th>31</th>\n",
       "      <td>Page A</td>\n",
       "      <td>0.7400</td>\n",
       "    </tr>\n",
       "    <tr>\n",
       "      <th>32</th>\n",
       "      <td>Page A</td>\n",
       "      <td>0.8600</td>\n",
       "    </tr>\n",
       "    <tr>\n",
       "      <th>33</th>\n",
       "      <td>Page A</td>\n",
       "      <td>1.1800</td>\n",
       "    </tr>\n",
       "    <tr>\n",
       "      <th>34</th>\n",
       "      <td>Page A</td>\n",
       "      <td>2.0600</td>\n",
       "    </tr>\n",
       "    <tr>\n",
       "      <th>35</th>\n",
       "      <td>Page A</td>\n",
       "      <td>0.9300</td>\n",
       "    </tr>\n",
       "  </tbody>\n",
       "</table>\n",
       "</div>"
      ],
      "text/plain": [
       "      Page   Time\n",
       "31  Page A 0.7400\n",
       "32  Page A 0.8600\n",
       "33  Page A 1.1800\n",
       "34  Page A 2.0600\n",
       "35  Page A 0.9300"
      ]
     },
     "execution_count": 5,
     "metadata": {},
     "output_type": "execute_result"
    }
   ],
   "source": [
    "df.tail()"
   ]
  },
  {
   "cell_type": "code",
   "execution_count": 6,
   "metadata": {},
   "outputs": [
    {
     "name": "stdout",
     "output_type": "stream",
     "text": [
      "<class 'pandas.core.frame.DataFrame'>\n",
      "RangeIndex: 36 entries, 0 to 35\n",
      "Data columns (total 2 columns):\n",
      " #   Column  Non-Null Count  Dtype  \n",
      "---  ------  --------------  -----  \n",
      " 0   Page    36 non-null     object \n",
      " 1   Time    36 non-null     float64\n",
      "dtypes: float64(1), object(1)\n",
      "memory usage: 704.0+ bytes\n"
     ]
    }
   ],
   "source": [
    "df.info()"
   ]
  },
  {
   "cell_type": "markdown",
   "metadata": {},
   "source": [
    "# ✅ 3. Sanity Check\n",
    "\n",
    "- Check Missing values\n",
    "- Check Duplicates\n",
    "- Check data type\n",
    "- Check the number of unique values of each column\n",
    "- Check statistics of data set\n",
    "- Check various categories present in the different categorical column"
   ]
  },
  {
   "cell_type": "markdown",
   "metadata": {},
   "source": [
    "## 3.1. Checking for Missing Values"
   ]
  },
  {
   "cell_type": "code",
   "execution_count": 7,
   "metadata": {},
   "outputs": [
    {
     "name": "stdout",
     "output_type": "stream",
     "text": [
      "0 columns has missing values\n",
      "--------------------------------------------------\n",
      "Empty DataFrame\n",
      "Columns: [Count, Percentage %]\n",
      "Index: []\n"
     ]
    }
   ],
   "source": [
    "count = df.isnull().sum()[df.isnull().sum() > 0]\n",
    "percentage = (count / df.shape[0]) * 100\n",
    "\n",
    "print(count.shape[0], 'columns has missing values')\n",
    "print('-'*50)\n",
    "print(pd.DataFrame({'Count':count, 'Percentage %':percentage}))"
   ]
  },
  {
   "cell_type": "code",
   "execution_count": 8,
   "metadata": {},
   "outputs": [
    {
     "data": {
      "text/html": [
       "<div>\n",
       "<style scoped>\n",
       "    .dataframe tbody tr th:only-of-type {\n",
       "        vertical-align: middle;\n",
       "    }\n",
       "\n",
       "    .dataframe tbody tr th {\n",
       "        vertical-align: top;\n",
       "    }\n",
       "\n",
       "    .dataframe thead th {\n",
       "        text-align: right;\n",
       "    }\n",
       "</style>\n",
       "<table border=\"1\" class=\"dataframe\">\n",
       "  <thead>\n",
       "    <tr style=\"text-align: right;\">\n",
       "      <th></th>\n",
       "      <th>Page</th>\n",
       "      <th>Time</th>\n",
       "    </tr>\n",
       "  </thead>\n",
       "  <tbody>\n",
       "    <tr>\n",
       "      <th>18</th>\n",
       "      <td>Page A</td>\n",
       "      <td>0.4500</td>\n",
       "    </tr>\n",
       "    <tr>\n",
       "      <th>7</th>\n",
       "      <td>Page B</td>\n",
       "      <td>2.4600</td>\n",
       "    </tr>\n",
       "    <tr>\n",
       "      <th>20</th>\n",
       "      <td>Page A</td>\n",
       "      <td>1.1800</td>\n",
       "    </tr>\n",
       "    <tr>\n",
       "      <th>32</th>\n",
       "      <td>Page A</td>\n",
       "      <td>0.8600</td>\n",
       "    </tr>\n",
       "    <tr>\n",
       "      <th>30</th>\n",
       "      <td>Page A</td>\n",
       "      <td>1.7300</td>\n",
       "    </tr>\n",
       "    <tr>\n",
       "      <th>26</th>\n",
       "      <td>Page A</td>\n",
       "      <td>0.3900</td>\n",
       "    </tr>\n",
       "    <tr>\n",
       "      <th>25</th>\n",
       "      <td>Page B</td>\n",
       "      <td>2.2300</td>\n",
       "    </tr>\n",
       "    <tr>\n",
       "      <th>27</th>\n",
       "      <td>Page B</td>\n",
       "      <td>0.4300</td>\n",
       "    </tr>\n",
       "    <tr>\n",
       "      <th>33</th>\n",
       "      <td>Page A</td>\n",
       "      <td>1.1800</td>\n",
       "    </tr>\n",
       "    <tr>\n",
       "      <th>2</th>\n",
       "      <td>Page A</td>\n",
       "      <td>0.3500</td>\n",
       "    </tr>\n",
       "    <tr>\n",
       "      <th>28</th>\n",
       "      <td>Page A</td>\n",
       "      <td>0.6500</td>\n",
       "    </tr>\n",
       "    <tr>\n",
       "      <th>19</th>\n",
       "      <td>Page B</td>\n",
       "      <td>0.4800</td>\n",
       "    </tr>\n",
       "    <tr>\n",
       "      <th>16</th>\n",
       "      <td>Page A</td>\n",
       "      <td>0.9500</td>\n",
       "    </tr>\n",
       "    <tr>\n",
       "      <th>10</th>\n",
       "      <td>Page A</td>\n",
       "      <td>0.6800</td>\n",
       "    </tr>\n",
       "    <tr>\n",
       "      <th>3</th>\n",
       "      <td>Page B</td>\n",
       "      <td>0.7100</td>\n",
       "    </tr>\n",
       "    <tr>\n",
       "      <th>1</th>\n",
       "      <td>Page B</td>\n",
       "      <td>2.5300</td>\n",
       "    </tr>\n",
       "    <tr>\n",
       "      <th>22</th>\n",
       "      <td>Page A</td>\n",
       "      <td>3.4200</td>\n",
       "    </tr>\n",
       "    <tr>\n",
       "      <th>12</th>\n",
       "      <td>Page A</td>\n",
       "      <td>3.2100</td>\n",
       "    </tr>\n",
       "    <tr>\n",
       "      <th>5</th>\n",
       "      <td>Page B</td>\n",
       "      <td>0.8500</td>\n",
       "    </tr>\n",
       "    <tr>\n",
       "      <th>14</th>\n",
       "      <td>Page A</td>\n",
       "      <td>1.4700</td>\n",
       "    </tr>\n",
       "  </tbody>\n",
       "</table>\n",
       "</div>"
      ],
      "text/plain": [
       "      Page   Time\n",
       "18  Page A 0.4500\n",
       "7   Page B 2.4600\n",
       "20  Page A 1.1800\n",
       "32  Page A 0.8600\n",
       "30  Page A 1.7300\n",
       "26  Page A 0.3900\n",
       "25  Page B 2.2300\n",
       "27  Page B 0.4300\n",
       "33  Page A 1.1800\n",
       "2   Page A 0.3500\n",
       "28  Page A 0.6500\n",
       "19  Page B 0.4800\n",
       "16  Page A 0.9500\n",
       "10  Page A 0.6800\n",
       "3   Page B 0.7100\n",
       "1   Page B 2.5300\n",
       "22  Page A 3.4200\n",
       "12  Page A 3.2100\n",
       "5   Page B 0.8500\n",
       "14  Page A 1.4700"
      ]
     },
     "execution_count": 8,
     "metadata": {},
     "output_type": "execute_result"
    }
   ],
   "source": [
    "# Checking some random records to see if there is any value which could replace null and may be missed by the above function.\n",
    "df.sample(20, random_state=101)"
   ]
  },
  {
   "cell_type": "markdown",
   "metadata": {},
   "source": [
    "## 3.2. Checking for Duplicates"
   ]
  },
  {
   "cell_type": "code",
   "execution_count": 9,
   "metadata": {},
   "outputs": [
    {
     "data": {
      "text/plain": [
       "1"
      ]
     },
     "execution_count": 9,
     "metadata": {},
     "output_type": "execute_result"
    }
   ],
   "source": [
    "df.duplicated().sum()"
   ]
  },
  {
   "cell_type": "markdown",
   "metadata": {},
   "source": [
    "🔎 **Observations:** Eventhoug it seems like the dataset has 1 duplicated value, we prefer to keep it as it might be an actual value as the data set has only 2 columns and 36 rows."
   ]
  },
  {
   "cell_type": "markdown",
   "metadata": {},
   "source": [
    "## 3.3. Checking for Data Type"
   ]
  },
  {
   "cell_type": "code",
   "execution_count": 10,
   "metadata": {},
   "outputs": [
    {
     "data": {
      "text/plain": [
       "Page     object\n",
       "Time    float64\n",
       "dtype: object"
      ]
     },
     "execution_count": 10,
     "metadata": {},
     "output_type": "execute_result"
    }
   ],
   "source": [
    "df.dtypes"
   ]
  },
  {
   "cell_type": "markdown",
   "metadata": {},
   "source": [
    "## 3.4. Checking the number of unique values of each column"
   ]
  },
  {
   "cell_type": "code",
   "execution_count": 11,
   "metadata": {},
   "outputs": [
    {
     "data": {
      "text/plain": [
       "Page     2\n",
       "Time    34\n",
       "dtype: int64"
      ]
     },
     "execution_count": 11,
     "metadata": {},
     "output_type": "execute_result"
    }
   ],
   "source": [
    "df.nunique()"
   ]
  },
  {
   "cell_type": "markdown",
   "metadata": {},
   "source": [
    "## 3.5. Summary Statistics"
   ]
  },
  {
   "cell_type": "code",
   "execution_count": 12,
   "metadata": {},
   "outputs": [
    {
     "data": {
      "text/html": [
       "<div>\n",
       "<style scoped>\n",
       "    .dataframe tbody tr th:only-of-type {\n",
       "        vertical-align: middle;\n",
       "    }\n",
       "\n",
       "    .dataframe tbody tr th {\n",
       "        vertical-align: top;\n",
       "    }\n",
       "\n",
       "    .dataframe thead th {\n",
       "        text-align: right;\n",
       "    }\n",
       "</style>\n",
       "<table border=\"1\" class=\"dataframe\">\n",
       "  <thead>\n",
       "    <tr style=\"text-align: right;\">\n",
       "      <th></th>\n",
       "      <th>Time</th>\n",
       "    </tr>\n",
       "  </thead>\n",
       "  <tbody>\n",
       "    <tr>\n",
       "      <th>count</th>\n",
       "      <td>36.0000</td>\n",
       "    </tr>\n",
       "    <tr>\n",
       "      <th>mean</th>\n",
       "      <td>1.4119</td>\n",
       "    </tr>\n",
       "    <tr>\n",
       "      <th>std</th>\n",
       "      <td>0.9424</td>\n",
       "    </tr>\n",
       "    <tr>\n",
       "      <th>min</th>\n",
       "      <td>0.2100</td>\n",
       "    </tr>\n",
       "    <tr>\n",
       "      <th>25%</th>\n",
       "      <td>0.7025</td>\n",
       "    </tr>\n",
       "    <tr>\n",
       "      <th>50%</th>\n",
       "      <td>1.1800</td>\n",
       "    </tr>\n",
       "    <tr>\n",
       "      <th>75%</th>\n",
       "      <td>1.9925</td>\n",
       "    </tr>\n",
       "    <tr>\n",
       "      <th>max</th>\n",
       "      <td>3.5700</td>\n",
       "    </tr>\n",
       "  </tbody>\n",
       "</table>\n",
       "</div>"
      ],
      "text/plain": [
       "         Time\n",
       "count 36.0000\n",
       "mean   1.4119\n",
       "std    0.9424\n",
       "min    0.2100\n",
       "25%    0.7025\n",
       "50%    1.1800\n",
       "75%    1.9925\n",
       "max    3.5700"
      ]
     },
     "execution_count": 12,
     "metadata": {},
     "output_type": "execute_result"
    }
   ],
   "source": [
    "df.describe()"
   ]
  },
  {
   "cell_type": "markdown",
   "metadata": {},
   "source": [
    "🔎 **Observations:** \n",
    "- Max number of seconds spent in the landing pages is 357.\n",
    "- Min number of seconds spent in the landing pages is 21.\n",
    "- People spend 141 seconds in average in both landing pages."
   ]
  },
  {
   "cell_type": "code",
   "execution_count": 13,
   "metadata": {},
   "outputs": [
    {
     "data": {
      "text/html": [
       "<div>\n",
       "<style scoped>\n",
       "    .dataframe tbody tr th:only-of-type {\n",
       "        vertical-align: middle;\n",
       "    }\n",
       "\n",
       "    .dataframe tbody tr th {\n",
       "        vertical-align: top;\n",
       "    }\n",
       "\n",
       "    .dataframe thead tr th {\n",
       "        text-align: left;\n",
       "    }\n",
       "\n",
       "    .dataframe thead tr:last-of-type th {\n",
       "        text-align: right;\n",
       "    }\n",
       "</style>\n",
       "<table border=\"1\" class=\"dataframe\">\n",
       "  <thead>\n",
       "    <tr>\n",
       "      <th></th>\n",
       "      <th colspan=\"8\" halign=\"left\">Time</th>\n",
       "    </tr>\n",
       "    <tr>\n",
       "      <th></th>\n",
       "      <th>count</th>\n",
       "      <th>mean</th>\n",
       "      <th>std</th>\n",
       "      <th>min</th>\n",
       "      <th>25%</th>\n",
       "      <th>50%</th>\n",
       "      <th>75%</th>\n",
       "      <th>max</th>\n",
       "    </tr>\n",
       "    <tr>\n",
       "      <th>Page</th>\n",
       "      <th></th>\n",
       "      <th></th>\n",
       "      <th></th>\n",
       "      <th></th>\n",
       "      <th></th>\n",
       "      <th></th>\n",
       "      <th></th>\n",
       "      <th></th>\n",
       "    </tr>\n",
       "  </thead>\n",
       "  <tbody>\n",
       "    <tr>\n",
       "      <th>Page A</th>\n",
       "      <td>21.0000</td>\n",
       "      <td>1.2633</td>\n",
       "      <td>0.8846</td>\n",
       "      <td>0.2100</td>\n",
       "      <td>0.6700</td>\n",
       "      <td>0.9500</td>\n",
       "      <td>1.7300</td>\n",
       "      <td>3.4200</td>\n",
       "    </tr>\n",
       "    <tr>\n",
       "      <th>Page B</th>\n",
       "      <td>15.0000</td>\n",
       "      <td>1.6200</td>\n",
       "      <td>1.0114</td>\n",
       "      <td>0.4300</td>\n",
       "      <td>0.8000</td>\n",
       "      <td>1.4700</td>\n",
       "      <td>2.3450</td>\n",
       "      <td>3.5700</td>\n",
       "    </tr>\n",
       "  </tbody>\n",
       "</table>\n",
       "</div>"
      ],
      "text/plain": [
       "          Time                                                 \n",
       "         count   mean    std    min    25%    50%    75%    max\n",
       "Page                                                           \n",
       "Page A 21.0000 1.2633 0.8846 0.2100 0.6700 0.9500 1.7300 3.4200\n",
       "Page B 15.0000 1.6200 1.0114 0.4300 0.8000 1.4700 2.3450 3.5700"
      ]
     },
     "execution_count": 13,
     "metadata": {},
     "output_type": "execute_result"
    }
   ],
   "source": [
    "df.groupby(by='Page').describe()"
   ]
  },
  {
   "cell_type": "markdown",
   "metadata": {},
   "source": [
    "🔎 **Observations:** \n",
    "\n",
    "- Max number of seconds spent in Page A is 342 and in Page B is 357 with average of 126.\n",
    "- Min number of seconds spent in Page A is 21 and in Page B is 43 with average of 162.\n",
    "- It looks like people spend more time on Page B."
   ]
  },
  {
   "cell_type": "markdown",
   "metadata": {},
   "source": [
    "# 📊 4. Exploratory Data Analysis (EDA) and Visualization"
   ]
  },
  {
   "cell_type": "code",
   "execution_count": 26,
   "metadata": {},
   "outputs": [
    {
     "data": {
      "image/png": "[encoded data removed]",
      "text/plain": [
       "<Figure size 640x480 with 1 Axes>"
      ]
     },
     "metadata": {},
     "output_type": "display_data"
    }
   ],
   "source": [
    "sb.histplot(data=df, x='Time', kde=True, color='green')\n",
    "# ---Remove the bars around the graph----\n",
    "plt.box(False)\n",
    "# -------------Add a grid-------------\n",
    "plt.grid(axis='x', alpha=0)\n",
    "plt.grid(axis='y', which='major', alpha=0.85, linestyle='dotted', zorder=2)\n",
    "plt.show()"
   ]
  },
  {
   "cell_type": "code",
   "execution_count": 29,
   "metadata": {},
   "outputs": [
    {
     "data": {
      "image/png": "[encoded data removed]",
      "text/plain": [
       "<Figure size 640x480 with 1 Axes>"
      ]
     },
     "metadata": {},
     "output_type": "display_data"
    }
   ],
   "source": [
    "sb.boxplot(data=df, y='Time', color='green', \n",
    "            boxprops=dict(alpha=0.80), linewidth=0.50, width=0.30)\n",
    "# ---Remove the bars around the graph----\n",
    "plt.box(False)\n",
    "# -------------Add a grid-------------\n",
    "plt.grid(axis='x', alpha=0)\n",
    "plt.grid(axis='y', which='major', alpha=0.85, linestyle='dotted', zorder=2)\n",
    "plt.show()"
   ]
  },
  {
   "cell_type": "code",
   "execution_count": 46,
   "metadata": {},
   "outputs": [
    {
     "data": {
      "image/png": "[encoded data removed]",
      "text/plain": [
       "<Figure size 640x480 with 1 Axes>"
      ]
     },
     "metadata": {},
     "output_type": "display_data"
    }
   ],
   "source": [
    "sb.histplot(data=df, x='Time', kde=True, hue='Page')\n",
    "# ---Remove the bars around the graph----\n",
    "plt.box(False)\n",
    "# -------------Add a grid-------------\n",
    "plt.grid(axis='x', alpha=0)\n",
    "plt.grid(axis='y', which='major', alpha=0.85, linestyle='dotted', zorder=2)\n",
    "plt.show()"
   ]
  },
  {
   "cell_type": "code",
   "execution_count": 37,
   "metadata": {},
   "outputs": [
    {
     "data": {
      "image/png": "[encoded data removed]",
      "text/plain": [
       "<Figure size 1000x600 with 2 Axes>"
      ]
     },
     "metadata": {},
     "output_type": "display_data"
    }
   ],
   "source": [
    "# Let's put them into separate figures to make a better observation\n",
    "\n",
    "# Create figure\n",
    "fig, axes = plt.subplots(nrows=1, ncols=2, figsize=(10, 6))\n",
    "# Flatten the axes array for easier indexing\n",
    "axes = axes.flatten()\n",
    "sb.histplot(data=df[df['Page'] == 'Page A'], x='Time', kde=True, ax=axes[0], color='darkblue')\n",
    "axes[0].set(title='Page A')\n",
    "sb.histplot(data=df[df['Page'] == 'Page B'], x='Time', kde=True, ax=axes[1], color='green')\n",
    "axes[1].set(title='Page B')\n",
    "\n",
    "# Remove borders and add grids for each subplot\n",
    "for ax in axes:\n",
    "    # Remove the top and right spines\n",
    "    ax.spines['top'].set_visible(False)\n",
    "    ax.spines['right'].set_visible(False)\n",
    "    ax.spines['left'].set_visible(False)\n",
    "    ax.spines['bottom'].set_visible(False)\n",
    "    # Add grid\n",
    "    ax.grid(axis='y', which='major', alpha=0.85, linestyle='dotted', zorder=2)\n",
    "\n",
    "\n",
    "plt.tight_layout()\n",
    "plt.show()"
   ]
  },
  {
   "cell_type": "code",
   "execution_count": 47,
   "metadata": {},
   "outputs": [
    {
     "data": {
      "image/png": "[encoded data removed]",
      "text/plain": [
       "<Figure size 640x480 with 1 Axes>"
      ]
     },
     "metadata": {},
     "output_type": "display_data"
    }
   ],
   "source": [
    "sb.boxplot(data=df, x='Page', y='Time', palette=[\"#FF0000\", \"#0070C0\"],\n",
    "           boxprops=dict(alpha=0.60), linewidth=0.50, width=0.30)\n",
    "# ---Remove the bars around the graph----\n",
    "plt.box(False)\n",
    "# ----Remove ticks on x and y axes----\n",
    "plt.tick_params(axis='x', which='both', bottom=False, top=False)\n",
    "plt.tick_params(axis='y', which='both', left=False, right=False)\n",
    "# -------------Add a grid-------------\n",
    "plt.grid(axis='x', alpha=0)\n",
    "plt.grid(axis='y', which='major', alpha=0.85, linestyle='dotted', zorder=2)\n",
    "plt.show()"
   ]
  },
  {
   "cell_type": "markdown",
   "metadata": {},
   "source": [
    "# 5. A/B Testing"
   ]
  },
  {
   "cell_type": "markdown",
   "metadata": {},
   "source": [
    "## 5.1. Testing Normality\n",
    "\n",
    "$H_0$ : There is **no** statistically significant difference between sample distribution and normal distribution.\n",
    "\n",
    "$H_1$ : There is **a** statistically significant difference between sample distribution and normal distribution.\n",
    "\n",
    "We'll use [Shapiro-Wilk test](https://en.wikipedia.org/wiki/Shapiro%E2%80%93Wilk_test)\n",
    "\n",
    "Depending on the result of the test we'll continue with Parametric or Non-parametric Method\n",
    "\n",
    "$p < 0.05 => \\text{Reject }H_0$"
   ]
  },
  {
   "cell_type": "code",
   "execution_count": 48,
   "metadata": {},
   "outputs": [
    {
     "name": "stdout",
     "output_type": "stream",
     "text": [
      "Page A p_value 0.01751495711505413 and result True\n",
      "Page B p_value 0.1611931324005127 and result False\n"
     ]
    }
   ],
   "source": [
    "# Split A/B\n",
    "page_a = df[df['Page'] == 'Page A']['Time']\n",
    "page_b = df[df['Page'] == 'Page B']['Time']\n",
    "\n",
    "# Set the significance level \n",
    "alpha = 0.05\n",
    "\n",
    "# Assumption: Normality\n",
    "p_value_a = shapiro(page_a)[1]\n",
    "print(f'Page A p_value {p_value_a} and result {p_value_a < alpha}')\n",
    "p_value_b = shapiro(page_b)[1]\n",
    "print(f'Page B p_value {p_value_b} and result {p_value_b < alpha}')"
   ]
  },
  {
   "cell_type": "markdown",
   "metadata": {},
   "source": [
    "🔎 **Observations:** Since at least one of the groups does not follow a normal distribution, non-parametric tests are more appropriate. These tests do not assume normality. That's why we'll run [Mann–Whitney $U$ test](https://en.wikipedia.org/wiki/Mann%E2%80%93Whitney_U_test) as a next step."
   ]
  },
  {
   "cell_type": "markdown",
   "metadata": {},
   "source": [
    "## 5.2. Non-parametric Method\n",
    "\n",
    "Is there a significant difference in ranks of Page A and Page B?\n",
    "\n",
    "$H_0$ : The distribution of the values of the two groups **are** equal.\n",
    "\n",
    "$H_1$ : The distribution of the values of the two groups are **not** equal.\n"
   ]
  },
  {
   "cell_type": "code",
   "execution_count": 49,
   "metadata": {},
   "outputs": [
    {
     "name": "stdout",
     "output_type": "stream",
     "text": [
      "Mann-Whitney U test statistic: 119.5\n",
      "P-value: 0.22880908661199295\n",
      "Fail to reject the null hypothesis: There is no significant difference between the two groups of pages.\n"
     ]
    }
   ],
   "source": [
    "stat, p_value = mannwhitneyu(page_a, page_b)\n",
    "\n",
    "print('Mann-Whitney U test statistic:', stat)\n",
    "print('P-value:', p_value)\n",
    "\n",
    "# Interpret the results\n",
    "if p_value < alpha:\n",
    "    print('Reject the null hypothesis: There is a significant difference between the two groups of pages.')\n",
    "else:\n",
    "    print('Fail to reject the null hypothesis: There is no significant difference between the two groups of pages.')"
   ]
  },
  {
   "cell_type": "markdown",
   "metadata": {},
   "source": [
    "🔎 **Observations:** Small sample sizes reduce the power of statistical tests, meaning there's a higher chance of Type II errors (failing to detect a difference when one exists). That's why we'll check [effect sizes](https://en.wikipedia.org/wiki/Effect_size) which provide information on the magnitude of the difference between groups, which can be more informative than p-values alone.\n",
    "\n",
    "$$d = \\frac{\\bar{x}_1 - \\bar{x}_2}{s}$$\n",
    "\n",
    "Here’s a general interpretation guideline for Cohen's d:\n",
    "- 0.2: Small effect\n",
    "- 0.5: Medium effect\n",
    "- 0.8: Large effect"
   ]
  },
  {
   "cell_type": "code",
   "execution_count": 50,
   "metadata": {},
   "outputs": [
    {
     "name": "stdout",
     "output_type": "stream",
     "text": [
      "Effect Size (Cohen's d): -0.3798813594950333\n"
     ]
    }
   ],
   "source": [
    "def compute_cohens_d(x, y):\n",
    "    nx = len(x)\n",
    "    ny = len(y)\n",
    "    dof = nx + ny - 2\n",
    "    return (np.mean(x) - np.mean(y)) / np.sqrt(((nx-1)*np.std(x, ddof=1) ** 2 + (ny-1)*np.std(y, ddof=1) ** 2) / dof)\n",
    "\n",
    "effect_size = compute_cohens_d(page_a, page_b)\n",
    "print('Effect Size (Cohen\\'s d):', effect_size)"
   ]
  },
  {
   "cell_type": "markdown",
   "metadata": {},
   "source": [
    "🔎 **Observations:** An effect size of -0.37 suggests a small to medium effect. The negative sign indicates the direction of the effect, meaning that the second group (Page B) has lower values compared to the first group (Page A)."
   ]
  },
  {
   "cell_type": "markdown",
   "metadata": {},
   "source": [
    "# 📝 6. Results\n",
    "\n",
    "In our analysis, the Mann-Whitney U test yielded a p-value of 0.22, indicating no statistically significant difference between the groups. However, the effect size (Cohen's d) was -0.37, suggesting a small to medium practical difference in outcomes between the two groups. Further investigation with a larger sample size may be warranted to explore this trend."
   ]
  },
  {
   "cell_type": "code",
   "execution_count": null,
   "metadata": {},
   "outputs": [],
   "source": []
  }
 ],
 "metadata": {
  "kernelspec": {
   "display_name": "xgboost_env",
   "language": "python",
   "name": "python3"
  },
  "language_info": {
   "codemirror_mode": {
    "name": "ipython",
    "version": 3
   },
   "file_extension": ".py",
   "mimetype": "text/x-python",
   "name": "python",
   "nbconvert_exporter": "python",
   "pygments_lexer": "ipython3",
   "version": "3.10.13"
  }
 },
 "nbformat": 4,
 "nbformat_minor": 2
}
